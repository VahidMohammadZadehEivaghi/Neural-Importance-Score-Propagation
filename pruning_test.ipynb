{
 "cells": [
  {
   "cell_type": "code",
   "execution_count": 2,
   "metadata": {},
   "outputs": [],
   "source": [
    "from torch import nn\n",
    "from torchvision.models.resnet import resnet50, ResNet50_Weights\n",
    "from torchvision.transforms import transforms\n",
    "from torchvision import datasets\n",
    "import torch \n",
    "from torch.utils.data import DataLoader\n",
    "import tqdm \n",
    "import os\n",
    "from torchmetrics import Accuracy\n",
    "import json "
   ]
  },
  {
   "cell_type": "code",
   "execution_count": 3,
   "metadata": {},
   "outputs": [],
   "source": [
    "def customized_resnet50_for_cifar10(num_class):\n",
    "        model = resnet50(weights=ResNet50_Weights.IMAGENET1K_V2)\n",
    "        backbone = list(model.children())[:-1]\n",
    "        return nn.Sequential(\n",
    "            *backbone, \n",
    "            nn.Flatten(),\n",
    "            nn.Linear(2048, num_class, bias=True),\n",
    "            nn.Softmax(dim=1)\n",
    "        )\n",
    "    \n",
    "def load_dataset(batch_size):\n",
    "    transform_train = transforms.Compose([\n",
    "        transforms.RandomCrop(32, padding=4),\n",
    "        transforms.RandomHorizontalFlip(),\n",
    "        transforms.ToTensor(),\n",
    "        transforms.Normalize((0.4914, 0.4822, 0.4465), (0.2023, 0.1994, 0.2010)),\n",
    "    ])\n",
    "\n",
    "    transform_test = transforms.Compose([\n",
    "        transforms.ToTensor(),\n",
    "        transforms.Normalize((0.4914, 0.4822, 0.4465), (0.2023, 0.1994, 0.2010)),\n",
    "    ])\n",
    "\n",
    "    trainset = datasets.CIFAR10(root='./data', train=True, download=True, transform=transform_train)\n",
    "    trainloader = torch.utils.data.DataLoader(trainset, batch_size=batch_size, shuffle=True, num_workers=4)\n",
    "\n",
    "    testset = datasets.CIFAR10(root='./data', train=False, download=True, transform=transform_test)\n",
    "    testloader = torch.utils.data.DataLoader(testset, batch_size=batch_size, shuffle=False, num_workers=4)\n",
    "\n",
    "    return trainloader, testloader"
   ]
  },
  {
   "cell_type": "code",
   "execution_count": 4,
   "metadata": {},
   "outputs": [],
   "source": [
    "def train_resnet50_on_cifar10(\n",
    "            model: nn.Module, \n",
    "            accuracy: Accuracy, \n",
    "            train_loader: DataLoader, \n",
    "            val_loader: DataLoader, \n",
    "            epochs: int, \n",
    "            lr: float=1e-4, \n",
    "            device: torch.device=torch.device(\"cuda\" if torch.cuda.is_available() else \"cpu\"), \n",
    "            artifact_path: str=\"./artifacts\"\n",
    "    ):\n",
    "        learning_history = {\"train_acc\": [], \"test_acc\": []}\n",
    "        start_epoch = 1\n",
    "        best_val_acc = 0\n",
    "        os.makedirs(artifact_path, exist_ok=True)\n",
    "        model.to(device)\n",
    "        accuracy.to(device)\n",
    "\n",
    "        \n",
    "        optimizer = torch.optim.Adam(model.parameters(), lr=lr)\n",
    "        checkpoint_path = os.path.join(artifact_path, \"checkpoints.pt\")\n",
    "        if os.path.isfile(checkpoint_path):\n",
    "            checkpoints = torch.load(checkpoint_path)\n",
    "            model.load_state_dict(checkpoints[\"model\"])\n",
    "            optimizer.load_state_dict(checkpoints[\"optimizer\"])\n",
    "            start_epoch = checkpoints[\"start_epoch\"]\n",
    "            best_val_acc = checkpoints[\"best_val_acc\"]\n",
    "            with open(os.path.join(artifact_path, \"learning_history.json\")) as history:\n",
    "                 learning_history = json.loads(history)\n",
    "                 \n",
    "        loss_fn = nn.CrossEntropyLoss()\n",
    "\n",
    "        for epoch in range(start_epoch, epochs + 1):\n",
    "              \n",
    "            model.train()\n",
    "            accuracy.reset()\n",
    "            train_acc = 0\n",
    "\n",
    "            pbar = tqdm.tqdm(train_loader, total=len(train_loader), desc=f\"Training - {epoch} / {epochs}\")\n",
    "            for x, y in pbar:\n",
    "                \n",
    "                model.zero_grad(set_to_none=True)\n",
    "\n",
    "                x, y = x.to(device), y.to(device)\n",
    "                y_hat = model(x)\n",
    "\n",
    "                loss = loss_fn(y_hat, y)\n",
    "                loss.backward()\n",
    "                optimizer.step()\n",
    "\n",
    "                accuracy.update(y_hat, y)\n",
    "                acc = accuracy.compute().item()\n",
    "                train_acc += acc / len(train_loader)\n",
    "\n",
    "                pbar.set_postfix(loss=loss.item(), accuracy=acc)\n",
    "            \n",
    "            learning_history[\"train_acc\"].append(train_acc)\n",
    "\n",
    "            test_acc = evaluate(model, val_loader, accuracy, device)\n",
    "            learning_history[\"test_acc\"].append(test_acc)\n",
    "\n",
    "            if test_acc > best_val_acc:\n",
    "                 best_val_acc = test_acc\n",
    "                 torch.save(model.state_dict(), os.path.join(artifact_path, \"best.pt\"))\n",
    "            \n",
    "            with open(os.path.join(artifact_path, \"learning_history.json\"), \"w\") as history:\n",
    "                 json.dump(learning_history, history, indent=4)\n",
    "                 \n",
    "            torch.save({\n",
    "                 \"model\": model.state_dict(), \n",
    "                 \"optimizer\": optimizer.state_dict(), \n",
    "                 \"start_epoch\": start_epoch, \n",
    "                 \"best_val_acc\": best_val_acc\n",
    "            }, os.path.join(artifact_path, \"checkpoints.pt\")\n",
    "            )\n",
    "            \n",
    "@torch.no_grad()\n",
    "def evaluate(model, val_loader, metric, device):\n",
    "    model.eval()\n",
    "    metric.reset()\n",
    "    model.to(device)\n",
    "    metric.to(device)\n",
    "\n",
    "    pbar = tqdm.tqdm(val_loader, desc=\"Test: \", total=len(val_loader))\n",
    "\n",
    "    for x, y in pbar:\n",
    "        x, y = x.to(device), y.to(device)\n",
    "\n",
    "        y_hat = model(x)\n",
    "        metric.update(y_hat, y)\n",
    "    \n",
    "    acc = metric.compute().item()\n",
    "    print(f\"----------------------{metric.compute().item()}--------------------------\")\n",
    "    pbar.close()\n",
    "    return acc\n"
   ]
  },
  {
   "cell_type": "code",
   "execution_count": 7,
   "metadata": {},
   "outputs": [
    {
     "name": "stdout",
     "output_type": "stream",
     "text": [
      "Files already downloaded and verified\n",
      "Files already downloaded and verified\n"
     ]
    },
    {
     "name": "stderr",
     "output_type": "stream",
     "text": [
      "Training - 1 / 20: 100%|██████████| 391/391 [01:40<00:00,  3.87it/s, accuracy=0.528, loss=1.81] \n",
      "Test: 100%|██████████| 79/79 [00:19<00:00,  4.13it/s]\n"
     ]
    },
    {
     "name": "stdout",
     "output_type": "stream",
     "text": [
      "----------------------0.7580999732017517--------------------------\n"
     ]
    },
    {
     "name": "stderr",
     "output_type": "stream",
     "text": [
      "Training - 2 / 20: 100%|██████████| 391/391 [01:03<00:00,  6.15it/s, accuracy=0.753, loss=1.73]\n",
      "Test: 100%|██████████| 79/79 [00:20<00:00,  3.87it/s]\n"
     ]
    },
    {
     "name": "stdout",
     "output_type": "stream",
     "text": [
      "----------------------0.7921000123023987--------------------------\n"
     ]
    },
    {
     "name": "stderr",
     "output_type": "stream",
     "text": [
      "Training - 3 / 20: 100%|██████████| 391/391 [01:02<00:00,  6.21it/s, accuracy=0.785, loss=1.69]\n",
      "Test: 100%|██████████| 79/79 [00:20<00:00,  3.79it/s]\n"
     ]
    },
    {
     "name": "stdout",
     "output_type": "stream",
     "text": [
      "----------------------0.8136000037193298--------------------------\n"
     ]
    },
    {
     "name": "stderr",
     "output_type": "stream",
     "text": [
      "Training - 4 / 20: 100%|██████████| 391/391 [01:04<00:00,  6.08it/s, accuracy=0.806, loss=1.62]\n",
      "Test: 100%|██████████| 79/79 [00:20<00:00,  3.80it/s]\n"
     ]
    },
    {
     "name": "stdout",
     "output_type": "stream",
     "text": [
      "----------------------0.8278999924659729--------------------------\n"
     ]
    },
    {
     "name": "stderr",
     "output_type": "stream",
     "text": [
      "Training - 5 / 20: 100%|██████████| 391/391 [01:04<00:00,  6.04it/s, accuracy=0.819, loss=1.68]\n",
      "Test: 100%|██████████| 79/79 [00:20<00:00,  3.84it/s]\n"
     ]
    },
    {
     "name": "stdout",
     "output_type": "stream",
     "text": [
      "----------------------0.8360000252723694--------------------------\n"
     ]
    },
    {
     "name": "stderr",
     "output_type": "stream",
     "text": [
      "Training - 6 / 20: 100%|██████████| 391/391 [01:06<00:00,  5.90it/s, accuracy=0.83, loss=1.63] \n",
      "Test: 100%|██████████| 79/79 [00:20<00:00,  3.80it/s]\n"
     ]
    },
    {
     "name": "stdout",
     "output_type": "stream",
     "text": [
      "----------------------0.8406999707221985--------------------------\n"
     ]
    },
    {
     "name": "stderr",
     "output_type": "stream",
     "text": [
      "Training - 7 / 20: 100%|██████████| 391/391 [01:06<00:00,  5.91it/s, accuracy=0.836, loss=1.69]\n",
      "Test: 100%|██████████| 79/79 [00:20<00:00,  3.83it/s]\n"
     ]
    },
    {
     "name": "stdout",
     "output_type": "stream",
     "text": [
      "----------------------0.8442000150680542--------------------------\n"
     ]
    },
    {
     "name": "stderr",
     "output_type": "stream",
     "text": [
      "Training - 8 / 20: 100%|██████████| 391/391 [01:07<00:00,  5.81it/s, accuracy=0.846, loss=1.61]\n",
      "Test: 100%|██████████| 79/79 [00:20<00:00,  3.76it/s]\n"
     ]
    },
    {
     "name": "stdout",
     "output_type": "stream",
     "text": [
      "----------------------0.855400025844574--------------------------\n"
     ]
    },
    {
     "name": "stderr",
     "output_type": "stream",
     "text": [
      "Training - 9 / 20: 100%|██████████| 391/391 [01:06<00:00,  5.84it/s, accuracy=0.852, loss=1.61]\n",
      "Test: 100%|██████████| 79/79 [00:20<00:00,  3.85it/s]\n"
     ]
    },
    {
     "name": "stdout",
     "output_type": "stream",
     "text": [
      "----------------------0.8532000184059143--------------------------\n"
     ]
    },
    {
     "name": "stderr",
     "output_type": "stream",
     "text": [
      "Training - 10 / 20: 100%|██████████| 391/391 [01:06<00:00,  5.91it/s, accuracy=0.857, loss=1.57]\n",
      "Test: 100%|██████████| 79/79 [00:20<00:00,  3.79it/s]\n"
     ]
    },
    {
     "name": "stdout",
     "output_type": "stream",
     "text": [
      "----------------------0.8560000061988831--------------------------\n"
     ]
    },
    {
     "name": "stderr",
     "output_type": "stream",
     "text": [
      "Training - 11 / 20: 100%|██████████| 391/391 [01:06<00:00,  5.92it/s, accuracy=0.864, loss=1.63]\n",
      "Test: 100%|██████████| 79/79 [00:20<00:00,  3.87it/s]\n"
     ]
    },
    {
     "name": "stdout",
     "output_type": "stream",
     "text": [
      "----------------------0.8604999780654907--------------------------\n"
     ]
    },
    {
     "name": "stderr",
     "output_type": "stream",
     "text": [
      "Training - 12 / 20: 100%|██████████| 391/391 [01:05<00:00,  5.95it/s, accuracy=0.868, loss=1.62]\n",
      "Test: 100%|██████████| 79/79 [00:20<00:00,  3.94it/s]\n"
     ]
    },
    {
     "name": "stdout",
     "output_type": "stream",
     "text": [
      "----------------------0.8616999983787537--------------------------\n"
     ]
    },
    {
     "name": "stderr",
     "output_type": "stream",
     "text": [
      "Training - 13 / 20: 100%|██████████| 391/391 [01:04<00:00,  6.05it/s, accuracy=0.873, loss=1.52]\n",
      "Test: 100%|██████████| 79/79 [00:20<00:00,  3.95it/s]\n"
     ]
    },
    {
     "name": "stdout",
     "output_type": "stream",
     "text": [
      "----------------------0.8671000003814697--------------------------\n"
     ]
    },
    {
     "name": "stderr",
     "output_type": "stream",
     "text": [
      "Training - 14 / 20: 100%|██████████| 391/391 [01:03<00:00,  6.14it/s, accuracy=0.877, loss=1.61]\n",
      "Test: 100%|██████████| 79/79 [00:19<00:00,  3.95it/s]\n"
     ]
    },
    {
     "name": "stdout",
     "output_type": "stream",
     "text": [
      "----------------------0.8719000220298767--------------------------\n"
     ]
    },
    {
     "name": "stderr",
     "output_type": "stream",
     "text": [
      "Training - 15 / 20: 100%|██████████| 391/391 [01:03<00:00,  6.12it/s, accuracy=0.88, loss=1.56] \n",
      "Test: 100%|██████████| 79/79 [00:20<00:00,  3.84it/s]\n"
     ]
    },
    {
     "name": "stdout",
     "output_type": "stream",
     "text": [
      "----------------------0.8690999746322632--------------------------\n"
     ]
    },
    {
     "name": "stderr",
     "output_type": "stream",
     "text": [
      "Training - 16 / 20: 100%|██████████| 391/391 [01:07<00:00,  5.79it/s, accuracy=0.881, loss=1.54]\n",
      "Test: 100%|██████████| 79/79 [00:20<00:00,  3.77it/s]\n"
     ]
    },
    {
     "name": "stdout",
     "output_type": "stream",
     "text": [
      "----------------------0.8783000111579895--------------------------\n"
     ]
    },
    {
     "name": "stderr",
     "output_type": "stream",
     "text": [
      "Training - 17 / 20: 100%|██████████| 391/391 [01:05<00:00,  5.96it/s, accuracy=0.886, loss=1.61]\n",
      "Test: 100%|██████████| 79/79 [00:31<00:00,  2.47it/s]\n"
     ]
    },
    {
     "name": "stdout",
     "output_type": "stream",
     "text": [
      "----------------------0.8726999759674072--------------------------\n"
     ]
    },
    {
     "name": "stderr",
     "output_type": "stream",
     "text": [
      "Training - 18 / 20: 100%|██████████| 391/391 [01:09<00:00,  5.60it/s, accuracy=0.89, loss=1.54] \n",
      "Test: 100%|██████████| 79/79 [00:20<00:00,  3.79it/s]\n"
     ]
    },
    {
     "name": "stdout",
     "output_type": "stream",
     "text": [
      "----------------------0.8773999810218811--------------------------\n"
     ]
    },
    {
     "name": "stderr",
     "output_type": "stream",
     "text": [
      "Training - 19 / 20: 100%|██████████| 391/391 [01:06<00:00,  5.89it/s, accuracy=0.891, loss=1.53]\n",
      "Test: 100%|██████████| 79/79 [00:20<00:00,  3.88it/s]\n"
     ]
    },
    {
     "name": "stdout",
     "output_type": "stream",
     "text": [
      "----------------------0.8784000277519226--------------------------\n"
     ]
    },
    {
     "name": "stderr",
     "output_type": "stream",
     "text": [
      "Training - 20 / 20: 100%|██████████| 391/391 [01:08<00:00,  5.71it/s, accuracy=0.895, loss=1.59]\n",
      "Test: 100%|██████████| 79/79 [00:21<00:00,  3.72it/s]\n"
     ]
    },
    {
     "name": "stdout",
     "output_type": "stream",
     "text": [
      "----------------------0.8812000155448914--------------------------\n"
     ]
    }
   ],
   "source": [
    "batch_size = 128\n",
    "epochs = 20\n",
    "lr = 1e-4\n",
    "model = customized_resnet50_for_cifar10(num_class=10)\n",
    "accuracy = Accuracy(task=\"multiclass\", num_classes=10)\n",
    "\n",
    "train_loader, val_loader = load_dataset(batch_size=batch_size)\n",
    "train_resnet50_on_cifar10(model=model, \n",
    "                          accuracy=accuracy,\n",
    "                          train_loader=train_loader, \n",
    "                          val_loader=val_loader, \n",
    "                          epochs=epochs)"
   ]
  },
  {
   "cell_type": "code",
   "execution_count": 5,
   "metadata": {},
   "outputs": [
    {
     "name": "stdout",
     "output_type": "stream",
     "text": [
      "Files already downloaded and verified\n",
      "Files already downloaded and verified\n"
     ]
    },
    {
     "name": "stderr",
     "output_type": "stream",
     "text": [
      "Neural Importance Score Computation: 100%|██████████| 391/391 [00:59<00:00,  6.60it/s]\n"
     ]
    },
    {
     "name": "stdout",
     "output_type": "stream",
     "text": [
      "Total layers with computed importance scores: 55\n",
      "Pruning applied to layer 0.weight with threshold: 0.0007268773042596877\n",
      "Pruning applied to layer 4.0.conv1.weight with threshold: 0.0004790328675881028\n",
      "Pruning applied to layer 4.0.conv2.weight with threshold: 5.119311754242517e-05\n",
      "Pruning applied to layer 4.0.conv3.weight with threshold: 0.00020138919353485107\n",
      "Pruning applied to layer 4.0.downsample.0.weight with threshold: 0.00046223984099924564\n",
      "Pruning applied to layer 4.1.conv1.weight with threshold: 8.674434502609074e-05\n",
      "Pruning applied to layer 4.1.conv2.weight with threshold: 7.297771662706509e-05\n",
      "Pruning applied to layer 4.1.conv3.weight with threshold: 0.00020080836839042604\n",
      "Pruning applied to layer 4.2.conv1.weight with threshold: 9.889837383525446e-05\n",
      "Pruning applied to layer 4.2.conv2.weight with threshold: 9.610374399926513e-05\n",
      "Pruning applied to layer 4.2.conv3.weight with threshold: 0.00018216246098745614\n",
      "Pruning applied to layer 5.0.conv1.weight with threshold: 0.00017496151849627495\n",
      "Pruning applied to layer 5.0.conv2.weight with threshold: 4.041660577058792e-05\n",
      "Pruning applied to layer 5.0.conv3.weight with threshold: 7.75920634623617e-05\n",
      "Pruning applied to layer 5.0.downsample.0.weight with threshold: 2.834316182998009e-05\n",
      "Pruning applied to layer 5.1.conv1.weight with threshold: 2.1422174540930428e-05\n",
      "Pruning applied to layer 5.1.conv2.weight with threshold: 1.6662277630530298e-05\n",
      "Pruning applied to layer 5.1.conv3.weight with threshold: 3.3422762498958036e-05\n",
      "Pruning applied to layer 5.2.conv1.weight with threshold: 3.545696017681621e-05\n",
      "Pruning applied to layer 5.2.conv2.weight with threshold: 2.1787425794173032e-05\n",
      "Pruning applied to layer 5.2.conv3.weight with threshold: 3.3470361813670024e-05\n",
      "Pruning applied to layer 5.3.conv1.weight with threshold: 4.427081876201555e-05\n",
      "Pruning applied to layer 5.3.conv2.weight with threshold: 2.680395482457243e-05\n",
      "Pruning applied to layer 5.3.conv3.weight with threshold: 4.093575262231752e-05\n",
      "Pruning applied to layer 6.0.conv1.weight with threshold: 5.1351824367884547e-05\n",
      "Pruning applied to layer 6.0.conv2.weight with threshold: 1.3799342923448421e-05\n",
      "Pruning applied to layer 6.0.conv3.weight with threshold: 3.008426028827671e-05\n",
      "Pruning applied to layer 6.0.downsample.0.weight with threshold: 7.56684039515676e-06\n",
      "Pruning applied to layer 6.1.conv1.weight with threshold: 6.54280938761076e-06\n",
      "Pruning applied to layer 6.1.conv2.weight with threshold: 3.247045015086769e-06\n",
      "Pruning applied to layer 6.1.conv3.weight with threshold: 6.845895768492483e-06\n",
      "Pruning applied to layer 6.2.conv1.weight with threshold: 4.5440074245561846e-06\n",
      "Pruning applied to layer 6.2.conv2.weight with threshold: 2.1221039787633345e-06\n",
      "Pruning applied to layer 6.2.conv3.weight with threshold: 3.905329776898725e-06\n",
      "Pruning applied to layer 6.3.conv1.weight with threshold: 6.632771601289278e-06\n",
      "Pruning applied to layer 6.3.conv2.weight with threshold: 2.3899740426713834e-06\n",
      "Pruning applied to layer 6.3.conv3.weight with threshold: 5.231388968240935e-06\n",
      "Pruning applied to layer 6.4.conv1.weight with threshold: 6.252358616620768e-06\n",
      "Pruning applied to layer 6.4.conv2.weight with threshold: 2.4167368337657535e-06\n",
      "Pruning applied to layer 6.4.conv3.weight with threshold: 4.544889634416904e-06\n",
      "Pruning applied to layer 6.5.conv1.weight with threshold: 6.601030690944754e-06\n",
      "Pruning applied to layer 6.5.conv2.weight with threshold: 1.993207206396619e-06\n",
      "Pruning applied to layer 6.5.conv3.weight with threshold: 4.2000428948085755e-06\n",
      "Pruning applied to layer 7.0.conv1.weight with threshold: 8.850155609252397e-06\n",
      "Pruning applied to layer 7.0.conv2.weight with threshold: 1.1848412668769015e-06\n",
      "Pruning applied to layer 7.0.conv3.weight with threshold: 3.7249308206810383e-06\n",
      "Pruning applied to layer 7.0.downsample.0.weight with threshold: 1.2330269782978576e-06\n",
      "Pruning applied to layer 7.1.conv1.weight with threshold: 6.848456450825324e-07\n",
      "Pruning applied to layer 7.1.conv2.weight with threshold: 0.0\n",
      "Pruning applied to layer 7.1.conv3.weight with threshold: 3.9074132018868113e-07\n",
      "Pruning applied to layer 7.2.conv1.weight with threshold: 7.75638795857958e-07\n",
      "Pruning applied to layer 7.2.conv2.weight with threshold: 0.0\n",
      "Pruning applied to layer 7.2.conv3.weight with threshold: 3.9540299212603713e-07\n",
      "Pruning applied to layer 10.weight with threshold: 9.993010280595627e-06\n",
      "Pruning applied to layer 10.bias with threshold: 2.7644831789075397e-05\n"
     ]
    },
    {
     "name": "stderr",
     "output_type": "stream",
     "text": [
      "Fine tuning: 1 / 20: 100%|██████████| 391/391 [01:07<00:00,  5.77it/s, accuracy=0.816, loss=1.6] \n",
      "Test: 100%|██████████| 79/79 [00:22<00:00,  3.51it/s]\n"
     ]
    },
    {
     "name": "stdout",
     "output_type": "stream",
     "text": [
      "----------------------0.8384000062942505--------------------------\n"
     ]
    },
    {
     "name": "stderr",
     "output_type": "stream",
     "text": [
      "Fine tuning: 2 / 20: 100%|██████████| 391/391 [01:08<00:00,  5.71it/s, accuracy=0.809, loss=1.6] \n",
      "Test: 100%|██████████| 79/79 [00:21<00:00,  3.69it/s]\n"
     ]
    },
    {
     "name": "stdout",
     "output_type": "stream",
     "text": [
      "----------------------0.8166999816894531--------------------------\n"
     ]
    },
    {
     "name": "stderr",
     "output_type": "stream",
     "text": [
      "Fine tuning: 3 / 20: 100%|██████████| 391/391 [01:08<00:00,  5.73it/s, accuracy=0.816, loss=1.63]\n",
      "Test: 100%|██████████| 79/79 [00:20<00:00,  3.85it/s]\n"
     ]
    },
    {
     "name": "stdout",
     "output_type": "stream",
     "text": [
      "----------------------0.826200008392334--------------------------\n"
     ]
    },
    {
     "name": "stderr",
     "output_type": "stream",
     "text": [
      "Fine tuning: 4 / 20: 100%|██████████| 391/391 [01:06<00:00,  5.87it/s, accuracy=0.828, loss=1.62]\n",
      "Test: 100%|██████████| 79/79 [00:20<00:00,  3.86it/s]\n"
     ]
    },
    {
     "name": "stdout",
     "output_type": "stream",
     "text": [
      "----------------------0.8295999765396118--------------------------\n"
     ]
    },
    {
     "name": "stderr",
     "output_type": "stream",
     "text": [
      "Fine tuning: 5 / 20: 100%|██████████| 391/391 [01:06<00:00,  5.87it/s, accuracy=0.831, loss=1.6] \n",
      "Test: 100%|██████████| 79/79 [00:20<00:00,  3.88it/s]\n"
     ]
    },
    {
     "name": "stdout",
     "output_type": "stream",
     "text": [
      "----------------------0.8367999792098999--------------------------\n"
     ]
    },
    {
     "name": "stderr",
     "output_type": "stream",
     "text": [
      "Fine tuning: 6 / 20: 100%|██████████| 391/391 [01:07<00:00,  5.82it/s, accuracy=0.835, loss=1.71]\n",
      "Test: 100%|██████████| 79/79 [00:20<00:00,  3.84it/s]\n"
     ]
    },
    {
     "name": "stdout",
     "output_type": "stream",
     "text": [
      "----------------------0.820900022983551--------------------------\n"
     ]
    },
    {
     "name": "stderr",
     "output_type": "stream",
     "text": [
      "Fine tuning: 7 / 20: 100%|██████████| 391/391 [01:06<00:00,  5.86it/s, accuracy=0.832, loss=1.66]\n",
      "Test: 100%|██████████| 79/79 [00:20<00:00,  3.88it/s]\n"
     ]
    },
    {
     "name": "stdout",
     "output_type": "stream",
     "text": [
      "----------------------0.8324999809265137--------------------------\n"
     ]
    },
    {
     "name": "stderr",
     "output_type": "stream",
     "text": [
      "Fine tuning: 8 / 20: 100%|██████████| 391/391 [01:07<00:00,  5.80it/s, accuracy=0.838, loss=1.59]\n",
      "Test: 100%|██████████| 79/79 [00:20<00:00,  3.89it/s]\n"
     ]
    },
    {
     "name": "stdout",
     "output_type": "stream",
     "text": [
      "----------------------0.8328999876976013--------------------------\n"
     ]
    },
    {
     "name": "stderr",
     "output_type": "stream",
     "text": [
      "Fine tuning: 9 / 20: 100%|██████████| 391/391 [01:07<00:00,  5.76it/s, accuracy=0.838, loss=1.58]\n",
      "Test: 100%|██████████| 79/79 [00:20<00:00,  3.85it/s]\n"
     ]
    },
    {
     "name": "stdout",
     "output_type": "stream",
     "text": [
      "----------------------0.8346999883651733--------------------------\n"
     ]
    },
    {
     "name": "stderr",
     "output_type": "stream",
     "text": [
      "Fine tuning: 10 / 20: 100%|██████████| 391/391 [01:06<00:00,  5.91it/s, accuracy=0.839, loss=1.67]\n",
      "Test: 100%|██████████| 79/79 [00:20<00:00,  3.88it/s]\n"
     ]
    },
    {
     "name": "stdout",
     "output_type": "stream",
     "text": [
      "----------------------0.8263000249862671--------------------------\n"
     ]
    },
    {
     "name": "stderr",
     "output_type": "stream",
     "text": [
      "Fine tuning: 11 / 20: 100%|██████████| 391/391 [01:07<00:00,  5.80it/s, accuracy=0.841, loss=1.63]\n",
      "Test: 100%|██████████| 79/79 [00:20<00:00,  3.88it/s]\n"
     ]
    },
    {
     "name": "stdout",
     "output_type": "stream",
     "text": [
      "----------------------0.8287000060081482--------------------------\n"
     ]
    },
    {
     "name": "stderr",
     "output_type": "stream",
     "text": [
      "Fine tuning: 12 / 20: 100%|██████████| 391/391 [01:07<00:00,  5.79it/s, accuracy=0.843, loss=1.63]\n",
      "Test: 100%|██████████| 79/79 [00:20<00:00,  3.86it/s]\n"
     ]
    },
    {
     "name": "stdout",
     "output_type": "stream",
     "text": [
      "----------------------0.849399983882904--------------------------\n"
     ]
    },
    {
     "name": "stderr",
     "output_type": "stream",
     "text": [
      "Fine tuning: 13 / 20: 100%|██████████| 391/391 [01:06<00:00,  5.86it/s, accuracy=0.854, loss=1.62]\n",
      "Test: 100%|██████████| 79/79 [00:20<00:00,  3.88it/s]\n"
     ]
    },
    {
     "name": "stdout",
     "output_type": "stream",
     "text": [
      "----------------------0.8442000150680542--------------------------\n"
     ]
    },
    {
     "name": "stderr",
     "output_type": "stream",
     "text": [
      "Fine tuning: 14 / 20: 100%|██████████| 391/391 [01:07<00:00,  5.83it/s, accuracy=0.852, loss=1.61]\n",
      "Test: 100%|██████████| 79/79 [00:21<00:00,  3.72it/s]\n"
     ]
    },
    {
     "name": "stdout",
     "output_type": "stream",
     "text": [
      "----------------------0.8492000102996826--------------------------\n"
     ]
    },
    {
     "name": "stderr",
     "output_type": "stream",
     "text": [
      "Fine tuning: 15 / 20: 100%|██████████| 391/391 [01:09<00:00,  5.60it/s, accuracy=0.855, loss=1.6] \n",
      "Test: 100%|██████████| 79/79 [00:21<00:00,  3.67it/s]\n"
     ]
    },
    {
     "name": "stdout",
     "output_type": "stream",
     "text": [
      "----------------------0.8476999998092651--------------------------\n"
     ]
    },
    {
     "name": "stderr",
     "output_type": "stream",
     "text": [
      "Fine tuning: 16 / 20: 100%|██████████| 391/391 [01:08<00:00,  5.73it/s, accuracy=0.857, loss=1.6] \n",
      "Test: 100%|██████████| 79/79 [00:20<00:00,  3.89it/s]\n"
     ]
    },
    {
     "name": "stdout",
     "output_type": "stream",
     "text": [
      "----------------------0.8457000255584717--------------------------\n"
     ]
    },
    {
     "name": "stderr",
     "output_type": "stream",
     "text": [
      "Fine tuning: 17 / 20: 100%|██████████| 391/391 [01:07<00:00,  5.82it/s, accuracy=0.856, loss=1.61]\n",
      "Test: 100%|██████████| 79/79 [00:20<00:00,  3.77it/s]\n"
     ]
    },
    {
     "name": "stdout",
     "output_type": "stream",
     "text": [
      "----------------------0.8353999853134155--------------------------\n"
     ]
    },
    {
     "name": "stderr",
     "output_type": "stream",
     "text": [
      "Fine tuning: 18 / 20: 100%|██████████| 391/391 [01:08<00:00,  5.70it/s, accuracy=0.853, loss=1.65]\n",
      "Test: 100%|██████████| 79/79 [00:20<00:00,  3.78it/s]\n"
     ]
    },
    {
     "name": "stdout",
     "output_type": "stream",
     "text": [
      "----------------------0.8517000079154968--------------------------\n"
     ]
    },
    {
     "name": "stderr",
     "output_type": "stream",
     "text": [
      "Fine tuning: 19 / 20: 100%|██████████| 391/391 [01:08<00:00,  5.68it/s, accuracy=0.861, loss=1.61]\n",
      "Test: 100%|██████████| 79/79 [00:21<00:00,  3.74it/s]\n"
     ]
    },
    {
     "name": "stdout",
     "output_type": "stream",
     "text": [
      "----------------------0.8508999943733215--------------------------\n"
     ]
    },
    {
     "name": "stderr",
     "output_type": "stream",
     "text": [
      "Fine tuning: 20 / 20: 100%|██████████| 391/391 [01:07<00:00,  5.75it/s, accuracy=0.86, loss=1.55] \n",
      "Test: 100%|██████████| 79/79 [00:20<00:00,  3.79it/s]\n"
     ]
    },
    {
     "name": "stdout",
     "output_type": "stream",
     "text": [
      "----------------------0.8440999984741211--------------------------\n",
      "Pruning reparameterization removed from 0\n",
      "Pruning reparameterization removed from 4.0.conv1\n",
      "Pruning reparameterization removed from 4.0.conv2\n",
      "Pruning reparameterization removed from 4.0.conv3\n",
      "Pruning reparameterization removed from 4.0.downsample.0\n",
      "Pruning reparameterization removed from 4.1.conv1\n",
      "Pruning reparameterization removed from 4.1.conv2\n",
      "Pruning reparameterization removed from 4.1.conv3\n",
      "Pruning reparameterization removed from 4.2.conv1\n",
      "Pruning reparameterization removed from 4.2.conv2\n",
      "Pruning reparameterization removed from 4.2.conv3\n",
      "Pruning reparameterization removed from 5.0.conv1\n",
      "Pruning reparameterization removed from 5.0.conv2\n",
      "Pruning reparameterization removed from 5.0.conv3\n",
      "Pruning reparameterization removed from 5.0.downsample.0\n",
      "Pruning reparameterization removed from 5.1.conv1\n",
      "Pruning reparameterization removed from 5.1.conv2\n",
      "Pruning reparameterization removed from 5.1.conv3\n",
      "Pruning reparameterization removed from 5.2.conv1\n",
      "Pruning reparameterization removed from 5.2.conv2\n",
      "Pruning reparameterization removed from 5.2.conv3\n",
      "Pruning reparameterization removed from 5.3.conv1\n",
      "Pruning reparameterization removed from 5.3.conv2\n",
      "Pruning reparameterization removed from 5.3.conv3\n",
      "Pruning reparameterization removed from 6.0.conv1\n",
      "Pruning reparameterization removed from 6.0.conv2\n",
      "Pruning reparameterization removed from 6.0.conv3\n",
      "Pruning reparameterization removed from 6.0.downsample.0\n",
      "Pruning reparameterization removed from 6.1.conv1\n",
      "Pruning reparameterization removed from 6.1.conv2\n",
      "Pruning reparameterization removed from 6.1.conv3\n",
      "Pruning reparameterization removed from 6.2.conv1\n",
      "Pruning reparameterization removed from 6.2.conv2\n",
      "Pruning reparameterization removed from 6.2.conv3\n",
      "Pruning reparameterization removed from 6.3.conv1\n",
      "Pruning reparameterization removed from 6.3.conv2\n",
      "Pruning reparameterization removed from 6.3.conv3\n",
      "Pruning reparameterization removed from 6.4.conv1\n",
      "Pruning reparameterization removed from 6.4.conv2\n",
      "Pruning reparameterization removed from 6.4.conv3\n",
      "Pruning reparameterization removed from 6.5.conv1\n",
      "Pruning reparameterization removed from 6.5.conv2\n",
      "Pruning reparameterization removed from 6.5.conv3\n",
      "Pruning reparameterization removed from 7.0.conv1\n",
      "Pruning reparameterization removed from 7.0.conv2\n",
      "Pruning reparameterization removed from 7.0.conv3\n",
      "Pruning reparameterization removed from 7.0.downsample.0\n",
      "Pruning reparameterization removed from 7.1.conv1\n",
      "Pruning reparameterization removed from 7.1.conv2\n",
      "Pruning reparameterization removed from 7.1.conv3\n",
      "Pruning reparameterization removed from 7.2.conv1\n",
      "Pruning reparameterization removed from 7.2.conv2\n",
      "Pruning reparameterization removed from 7.2.conv3\n",
      "Pruning reparameterization removed from 10\n",
      "Pruning reparameterization removed from bias of 10\n",
      "Fine-tuning completed for 20 epochs.\n"
     ]
    }
   ],
   "source": [
    "from NISPPruner import NISPPruner\n",
    "\n",
    "accuracy = Accuracy(task=\"multiclass\", num_classes=10)\n",
    "train_loader, val_loader = load_dataset(batch_size=128)\n",
    "\n",
    "model = customized_resnet50_for_cifar10(num_class=10)\n",
    "model.load_state_dict(torch.load(\"./artifacts/best.pt\", weights_only=True))\n",
    "device = torch.device(\"cuda\" if torch.cuda.is_available() else \"cpu\")\n",
    "pruner = NISPPruner(\n",
    "    model=model, \n",
    "    train_loader=train_loader, \n",
    "    val_loader=val_loader, \n",
    "    accuracy=accuracy, \n",
    "    device=device\n",
    ")\n",
    "pruner.compute_importance_scores()\n",
    "pruner.apply_pruning(prune_ratio=0.75)\n",
    "pruner.fine_tune(learning_rate=1e-4)\n"
   ]
  },
  {
   "cell_type": "code",
   "execution_count": 6,
   "metadata": {},
   "outputs": [],
   "source": [
    "def compute_pruning_percentage(original_model: nn.Module, pruned_model: nn.Module) -> float:\n",
    "    \"\"\"\n",
    "    Computes the pruning percentage by comparing the number of non-zero \n",
    "    parameters in the original model and the pruned model.\n",
    "\n",
    "    Parameters:\n",
    "    original_model (nn.Module): The original model before pruning.\n",
    "    pruned_model (nn.Module): The model after pruning.\n",
    "\n",
    "    Returns:\n",
    "    float: The percentage of weights that have been pruned.\n",
    "    \"\"\"\n",
    "    original_non_zero = 0\n",
    "    original_total = 0\n",
    "    pruned_non_zero = 0\n",
    "    pruned_total = 0\n",
    "\n",
    "    for orig_param, pruned_param in zip(original_model.parameters(), pruned_model.parameters()):\n",
    "        original_non_zero += orig_param.nonzero().size(0)\n",
    "        original_total += orig_param.numel()\n",
    "        pruned_non_zero += pruned_param.nonzero().size(0)\n",
    "        pruned_total += pruned_param.numel()\n",
    "\n",
    "    if original_total != pruned_total:\n",
    "        raise ValueError(\"The original and pruned models do not have the same total number of parameters.\")\n",
    "\n",
    "    pruning_percentage = 100.0 * (original_non_zero - pruned_non_zero) / original_non_zero\n",
    "    return pruning_percentage"
   ]
  },
  {
   "cell_type": "code",
   "execution_count": 9,
   "metadata": {},
   "outputs": [
    {
     "name": "stdout",
     "output_type": "stream",
     "text": [
      "77.66045398006726\n"
     ]
    }
   ],
   "source": [
    "pruned_model = customized_resnet50_for_cifar10(num_class=10)\n",
    "orig_model = customized_resnet50_for_cifar10(num_class=10)\n",
    "orig_model.load_state_dict(torch.load(\"./artifacts/best.pt\", weights_only=True))\n",
    "pruned_model.load_state_dict(torch.load(\"./pruned_artifacts/pruned_model.pt\", weights_only=True))\n",
    "\n",
    "print(compute_pruning_percentage(orig_model, pruned_model))"
   ]
  },
  {
   "cell_type": "code",
   "execution_count": null,
   "metadata": {},
   "outputs": [],
   "source": []
  },
  {
   "cell_type": "code",
   "execution_count": null,
   "metadata": {},
   "outputs": [],
   "source": []
  }
 ],
 "metadata": {
  "kernelspec": {
   "display_name": ".venv",
   "language": "python",
   "name": "python3"
  },
  "language_info": {
   "codemirror_mode": {
    "name": "ipython",
    "version": 3
   },
   "file_extension": ".py",
   "mimetype": "text/x-python",
   "name": "python",
   "nbconvert_exporter": "python",
   "pygments_lexer": "ipython3",
   "version": "3.8.10"
  }
 },
 "nbformat": 4,
 "nbformat_minor": 2
}
